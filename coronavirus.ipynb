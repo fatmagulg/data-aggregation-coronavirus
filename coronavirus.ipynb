{
 "cells": [
  {
   "cell_type": "markdown",
   "metadata": {},
   "source": [
    "# Coronavirus World Data Analysis"
   ]
  },
  {
   "cell_type": "markdown",
   "metadata": {},
   "source": [
    "First of all\n",
    "- import `pandas` with an alias of `pd`\n",
    "- read a CSV containing the data to work with\n",
    "- convert the `date` column to the `datetime` format\n",
    "- create a DataFrame `df` containing the data for only **1st July 2020**\n",
    "- take a look at the first few rows of the DataFrame\n"
   ]
  },
  {
   "cell_type": "code",
   "execution_count": 1,
   "metadata": {
    "inputHidden": false,
    "outputHidden": false
   },
   "outputs": [],
   "source": [
    "import pandas as pd\n",
    "\n",
    "data = pd.read_csv('data/owid-covid-data.csv')\n",
    "data['date'] = pd.to_datetime(data['date'])\n",
    "df = data[data['date'] == '2020-07-01']\n",
    "\n",
    "df.head()"
   ]
  },
  {
   "cell_type": "markdown",
   "metadata": {},
   "source": [
    "- `df` DataFrame now has one row of data for each country with data present for **July 1st 2020**\n",
    "- however, it also has a row with a `location` of `World` which contains aggregated values for all countries\n",
    "- `df.tail()`, `df.info()` and `df.shape` will allow for further exploration of the structure of the DataFrame"
   ]
  },
  {
   "cell_type": "code",
   "execution_count": 2,
   "metadata": {},
   "outputs": [],
   "source": [
    "df.tail()"
   ]
  },
  {
   "cell_type": "code",
   "execution_count": 3,
   "metadata": {},
   "outputs": [],
   "source": [
    "df.info()"
   ]
  },
  {
   "cell_type": "code",
   "execution_count": 4,
   "metadata": {},
   "outputs": [],
   "source": [
    "df.shape"
   ]
  },
  {
   "cell_type": "markdown",
   "metadata": {},
   "source": [
    "**Q1. Create a new DataFrame called `countries` which is the same as `df` but with the `World` row removed.**\n",
    "\n",
    "- Use the `.copy()` method to ensure you have a distinct DataFrame in memory\n",
    "- Assign this new DataFrame to the variable `countries`; do not modify `df`\n"
   ]
  },
  {
   "cell_type": "code",
   "execution_count": 44,
   "metadata": {},
   "outputs": [],
   "source": [
    "countries = df.copy()\n",
    "ind = countries[countries['location'] == 'World'].index[0]\n",
    "countries = df.drop(index = ind)\n",
    "countries.tail()"
   ]
  },
  {
   "cell_type": "markdown",
   "metadata": {},
   "source": [
    "**Q2. Check the shape of your DataFrame to confirm that `countries` has one row fewer than `df`:**"
   ]
  },
  {
   "cell_type": "code",
   "execution_count": 45,
   "metadata": {},
   "outputs": [],
   "source": [
    "print(df.shape, countries.shape)"
   ]
  },
  {
   "cell_type": "markdown",
   "metadata": {},
   "source": [
    "**Q3. Define a DataFrame based on the `countries` DataFrame, but which only contains the columns in `cols` (defined below) and assign this to a variable called `countries_dr`**\n",
    "\n",
    "- Order this DataFrame by `'total_deaths_per_million'`, with the highest numbers at the top."
   ]
  },
  {
   "cell_type": "code",
   "execution_count": 116,
   "metadata": {},
   "outputs": [],
   "source": [
    "cols = ['continent', 'location', 'total_deaths_per_million']\n",
    "\n",
    "countries_dr = countries[cols].sort_values(by = 'total_deaths_per_million', ascending = False)\n",
    "countries_dr.head()"
   ]
  },
  {
   "cell_type": "markdown",
   "metadata": {},
   "source": [
    "**Q4. Using the `countries` DataFrame we created earlier, find the sum of `total_tests` for countries in `Africa`, assigning the result, *as an integer*, to `africa_tests`.**\n",
    "\n",
    "- Use `.sum()` method calculate the sum for `total_tests` column\n",
    "- Use `.astype(int)` method or `int()` function to convert results to an integer"
   ]
  },
  {
   "cell_type": "code",
   "execution_count": 27,
   "metadata": {},
   "outputs": [],
   "source": [
    "africa_tests = countries[countries['continent'] == 'Africa'].total_tests.sum().astype(int)\n",
    "africa_tests"
   ]
  },
  {
   "cell_type": "markdown",
   "metadata": {},
   "source": [
    "**Q5. How many countries in Africa have no value recorded for the number of `total_tests` column? Assign the result to `africa_missing_test_data`.**"
   ]
  },
  {
   "cell_type": "code",
   "execution_count": 126,
   "metadata": {},
   "outputs": [],
   "source": [
    "# africa_missing_test_data = len(countries[countries['continent'] == 'Africa'].total_tests.isna())\n",
    "africa = countries[countries['continent'] == 'Africa'].total_tests\n",
    "africa_missing_test_data = len(africa[africa.isna() == True])\n",
    "africa_missing_test_data"
   ]
  },
  {
   "cell_type": "markdown",
   "metadata": {},
   "source": [
    "**Q6. How many countries have a higher value for `total_tests` than the `United Kingdom`? Assign your answer to a variable called `countries_more_tests`.**"
   ]
  },
  {
   "cell_type": "code",
   "execution_count": 127,
   "metadata": {},
   "outputs": [],
   "source": [
    "def more_tests(country):\n",
    "    tests = countries.at[countries[countries['location'] == country].index[0], 'total_tests']\n",
    "\n",
    "    result = []\n",
    "\n",
    "    frame = countries.reset_index()\n",
    "\n",
    "    for i in range(frame.shape[0]):\n",
    "        if frame.loc[i, 'total_tests'] > tests:\n",
    "            result.append(frame.loc[i, 'location'])\n",
    "\n",
    "    return len(result)\n",
    "\n",
    "countries_more_tests = more_tests('United Kingdom')\n",
    "countries_more_tests"
   ]
  },
  {
   "cell_type": "markdown",
   "metadata": {},
   "source": [
    "**Q7. Create a DataFrame called `beds_dr` which is based on the `countries` DataFrame, but contains only the columns `hospital_beds_per_thousand` and `total_deaths_per_million`.**"
   ]
  },
  {
   "cell_type": "code",
   "execution_count": 85,
   "metadata": {},
   "outputs": [],
   "source": [
    "beds_dr = countries[['hospital_beds_per_thousand', 'total_deaths_per_million']].dropna()\n",
    "beds_dr"
   ]
  },
  {
   "cell_type": "markdown",
   "metadata": {},
   "source": [
    "**Q8. Refer to the `beds_dr` DataFrame. What is the average `total_deaths_per_million` for entries in `beds_dr` where `hospital_beds_per_thousand` is greater than the mean?**\n",
    "\n",
    "- Save the results to a new variable called `dr_high_bed_ratio`"
   ]
  },
  {
   "cell_type": "code",
   "execution_count": 87,
   "metadata": {},
   "outputs": [],
   "source": [
    "#dr_high_bed_ratio\n",
    "\n",
    "above_av = beds_dr[beds_dr['hospital_beds_per_thousand'] > beds_dr['hospital_beds_per_thousand'].mean()]\n",
    "\n",
    "dr_high_bed_ratio = above_av['total_deaths_per_million'].mean()\n",
    "dr_high_bed_ratio"
   ]
  },
  {
   "cell_type": "markdown",
   "metadata": {},
   "source": [
    "**Q9. Refer to the `beds_dr` DataFrame. What is the average `total_deaths_per_million` for entries in `beds_dr` where `hospital_beds_per_thousand` is less than the mean?**\n",
    "\n",
    "- Save the results to a new variable called `dr_low_bed_ratio`"
   ]
  },
  {
   "cell_type": "code",
   "execution_count": 88,
   "metadata": {},
   "outputs": [],
   "source": [
    "#dr_low_bed_ratio\n",
    "\n",
    "below_av = beds_dr[beds_dr['hospital_beds_per_thousand'] < beds_dr['hospital_beds_per_thousand'].mean()]\n",
    "\n",
    "dr_low_bed_ratio = below_av['total_deaths_per_million'].mean()\n",
    "dr_low_bed_ratio"
   ]
  },
  {
   "cell_type": "markdown",
   "metadata": {},
   "source": [
    "**Q10. Refer to the `countries` DataFrame. Create a new DataFrame called `no_new_cases` which contains only rows from `countries` with zero `new_cases`.**"
   ]
  },
  {
   "cell_type": "code",
   "execution_count": 89,
   "metadata": {},
   "outputs": [],
   "source": [
    "no_new_cases = countries[countries['new_cases'] == 0]\n",
    "\n",
    "no_new_cases.head()"
   ]
  },
  {
   "cell_type": "markdown",
   "metadata": {},
   "source": [
    "**Q11. Refer to the `no_new_cases` DataFrame. Which country in `no_new_cases` DataFrame has had the highest number of `total_cases`?**\n",
    "\n",
    "- Save the results to a new variable called `highest_no_new`"
   ]
  },
  {
   "cell_type": "code",
   "execution_count": 135,
   "metadata": {},
   "outputs": [],
   "source": [
    "highest_no_new = no_new_cases[no_new_cases['total_cases'] == no_new_cases['total_cases'].max()]\n",
    "highest_no_new = highest_no_new['location'].iloc[0]\n",
    "highest_no_new"
   ]
  },
  {
   "cell_type": "markdown",
   "metadata": {},
   "source": [
    "**Q12. Refer to the `countries` DataFrame. What is the sum of the `population` of all countries which have had zero `total_deaths`?**"
   ]
  },
  {
   "cell_type": "code",
   "execution_count": 131,
   "metadata": {},
   "outputs": [],
   "source": [
    "sum_populations_no_deaths = countries[countries['total_deaths'] == 0]['population'].sum()\n",
    "sum_populations_no_deaths = round(int(sum_populations_no_deaths)/1000000)\n",
    "sum_populations_no_deaths"
   ]
  },
  {
   "cell_type": "markdown",
   "metadata": {},
   "source": [
    "**Q13. Create a function called `country_metric` which accepts the following three parameters:**\n",
    "\n",
    "- a DataFrame (which can be assumed to be of a similar format to `countries`)\n",
    "- a location (i.e. a string  which will be found in the `location` column of the DataFrame)\n",
    "- a metric (i.e. a string which will be found in any column  (other than `location`)  in the DataFrame)\n",
    "\n",
    "The function should return only the value from the first row for a given `location` and  `metric`."
   ]
  },
  {
   "cell_type": "code",
   "execution_count": 99,
   "metadata": {},
   "outputs": [],
   "source": [
    "def country_metric(df, location, metric):\n",
    "    \n",
    "    return df[df['location'] == location].iloc[0][metric]\n",
    "\n",
    "country_metric(countries, 'France', 'new_cases')"
   ]
  },
  {
   "cell_type": "markdown",
   "metadata": {},
   "source": [
    "**Q.14 Use your function to collect the value for `Vietnam` for the metric `aged_70_older`, assigning the result to `vietnam_older_70`.**"
   ]
  },
  {
   "cell_type": "code",
   "execution_count": 100,
   "metadata": {},
   "outputs": [],
   "source": [
    "vietnam_older_70 = country_metric(countries, 'Vietnam', 'aged_70_older')\n",
    "vietnam_older_70"
   ]
  },
  {
   "cell_type": "markdown",
   "metadata": {},
   "source": [
    "**Q.15 Create another function called `countries_average`, which accepts the following three parameters:**\n",
    "\n",
    "- a DataFrame \"df\" (which can be assumed to be such as `countries`)\n",
    "- a list of countries \"countries\" (which can be assumed to all be found in the `location` column of the DataFrame)\n",
    "- a string \"metric\" (which can be assumed to be a column (other than `location`) which will be found in the DataFrame) . For instance, this string value can be `life_expectancy`.\n",
    "\n",
    "The function should return the average value for the given metric for the given list of countries."
   ]
  },
  {
   "cell_type": "code",
   "execution_count": 107,
   "metadata": {},
   "outputs": [],
   "source": [
    "def countries_average(df, countries, metric):\n",
    "    frame = df[df['location'].isin(countries)]\n",
    "    avg = frame[metric].mean()\n",
    "    return avg"
   ]
  },
  {
   "cell_type": "markdown",
   "metadata": {},
   "source": [
    "**Q16. Use your `countries_average` function to find out the average `life_expectancy` of countries in the `g7` list defined below. Assign the result to the variable `g7_avg_life_expectancy`.**"
   ]
  },
  {
   "cell_type": "code",
   "execution_count": 108,
   "metadata": {},
   "outputs": [],
   "source": [
    "g7 = ['United States', 'Italy', 'Canada', 'Japan', 'United Kingdom', 'Germany', 'France']\n",
    "g7_avg_life_expectancy = countries_average(df, g7, 'life_expectancy')\n",
    "g7_avg_life_expectancy"
   ]
  },
  {
   "cell_type": "markdown",
   "metadata": {},
   "source": [
    "**Q.17 Refer to the `countries` DataFrame. Find the country with lowest value for `life_expectancy` in the `countries` DataFrame, and create a string which is formatted as follows:**\n",
    "\n",
    "'{country} has a life expectancy of {diff} years lower than the G7 average.'\n",
    "\n",
    "- use `f-strings` to format the string\n",
    "- {country} being replaced by the value in the `location` column of the DataFrame\n",
    "- {diff} being replaced by a float **rounded to one decimal place**, of the value from the `life_expectancy` column subtracted from `g7_avg_life_expectancy`. Please note that {diff} should be a positive value\n"
   ]
  },
  {
   "cell_type": "code",
   "execution_count": 115,
   "metadata": {},
   "outputs": [],
   "source": [
    "country = countries[countries['life_expectancy'] == countries['life_expectancy'].min()].iloc[0]['location']\n",
    "life_exp = countries[countries['life_expectancy'] == countries['life_expectancy'].min()].iloc[0]['life_expectancy']\n",
    "diff = round((g7_avg_life_expectancy - life_exp), 1)\n",
    "headline = f'{country} has a life expectancy of {diff} years lower than the G7 average.'\n",
    "headline "
   ]
  }
 ],
 "metadata": {
  "kernel_info": {
   "name": "python3"
  },
  "kernelspec": {
   "display_name": "Python 3 (ipykernel)",
   "language": "python",
   "name": "python3"
  },
  "language_info": {
   "codemirror_mode": {
    "name": "ipython",
    "version": 3
   },
   "file_extension": ".py",
   "mimetype": "text/x-python",
   "name": "python",
   "nbconvert_exporter": "python",
   "pygments_lexer": "ipython3",
   "version": "3.7.17"
  },
  "nteract": {
   "version": "0.15.0"
  }
 },
 "nbformat": 4,
 "nbformat_minor": 4
}
